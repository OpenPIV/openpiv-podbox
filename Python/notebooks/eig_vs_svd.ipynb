{
 "cells": [
  {
   "cell_type": "code",
   "execution_count": 8,
   "metadata": {},
   "outputs": [],
   "source": [
    "import numpy as np\n",
    "np.random.seed(42)\n",
    "# create mean centered data\n",
    "A=np.random.randn(50,20)\n",
    "M= A-np.array(A.mean(0),ndmin=2)\n",
    "\n",
    "# svd\n",
    "U1,S1,V1=np.linalg.svd(M) \n",
    "S1=np.square(S1)\n",
    "V1=V1.T  \n",
    "\n",
    "# eig\n",
    "S2,V2=np.linalg.eigh(np.dot(M.T,M))\n",
    "indx=np.argsort(S2)[::-1]\n",
    "S2=S2[indx]\n",
    "V2=V2[:,indx]\n",
    "\n",
    "# both Vs are in orthonormal form\n",
    "assert np.all(np.isclose(np.linalg.norm(V1,axis=1), np.ones(V1.shape[0])))\n",
    "assert np.all(np.isclose(np.linalg.norm(V1,axis=0), np.ones(V1.shape[1])))\n",
    "assert np.all(np.isclose(np.linalg.norm(V2,axis=1), np.ones(V2.shape[0])))\n",
    "assert np.all(np.isclose(np.linalg.norm(V2,axis=0), np.ones(V2.shape[1])))\n",
    "\n",
    "assert np.all(np.isclose(S1,S2))\n",
    "assert np.allclose(np.abs((V1*V2).sum(0)),1.)"
   ]
  },
  {
   "cell_type": "code",
   "execution_count": 9,
   "metadata": {},
   "outputs": [
    {
     "data": {
      "text/plain": [
       "<function numpy.linalg.linalg.eigh>"
      ]
     },
     "execution_count": 9,
     "metadata": {},
     "output_type": "execute_result"
    }
   ],
   "source": [
    "np.linalg.eigh"
   ]
  },
  {
   "cell_type": "code",
   "execution_count": null,
   "metadata": {},
   "outputs": [],
   "source": []
  }
 ],
 "metadata": {
  "kernelspec": {
   "display_name": "Python 3",
   "language": "python",
   "name": "python3"
  },
  "language_info": {
   "codemirror_mode": {
    "name": "ipython",
    "version": 3
   },
   "file_extension": ".py",
   "mimetype": "text/x-python",
   "name": "python",
   "nbconvert_exporter": "python",
   "pygments_lexer": "ipython3",
   "version": "3.6.4"
  }
 },
 "nbformat": 4,
 "nbformat_minor": 2
}
