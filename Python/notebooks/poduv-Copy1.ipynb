{
 "cells": [
  {
   "cell_type": "code",
   "execution_count": 1,
   "metadata": {},
   "outputs": [],
   "source": [
    "# copy of poduv.m\n",
    "import numpy as np\n",
    "import matplotlib.pyplot as plt\n",
    "%matplotlib inline\n",
    "\n",
    "from glob import glob\n",
    "import os\n",
    "import io\n",
    "\n",
    "np.set_printoptions(linewidth=150)\n",
    "np.set_printoptions(precision=3)"
   ]
  },
  {
   "cell_type": "code",
   "execution_count": 2,
   "metadata": {},
   "outputs": [],
   "source": [
    "def read_vec_file(fname):\n",
    "    data = np.genfromtxt(fname, skip_header=1, delimiter=',',usecols=(0,1,2,3,4))\n",
    "    r,c = np.unique(data[:,1]).shape[0],np.unique(data[:,0]).shape[0] # order ?\n",
    "    \n",
    "    x = data[:,0].reshape(r,c)\n",
    "    y = data[:,1].reshape(r,c)\n",
    "    u = data[:,2].reshape(r,c)\n",
    "    v = data[:,3].reshape(r,c)\n",
    "    chc = data[:,4].reshape(r,c)\n",
    "    return x,y,u,v,chc"
   ]
  },
  {
   "cell_type": "code",
   "execution_count": 3,
   "metadata": {},
   "outputs": [
    {
     "data": {
      "text/plain": [
       "['../../small_test/06302014_2Hz_particles000200.T000.D000.P000.H000.L.vec',\n",
       " '../../small_test/06302014_2Hz_particles000201.T000.D000.P000.H000.L.vec',\n",
       " '../../small_test/06302014_2Hz_particles000202.T000.D000.P000.H000.L.vec',\n",
       " '../../small_test/06302014_2Hz_particles000203.T000.D000.P000.H000.L.vec']"
      ]
     },
     "execution_count": 3,
     "metadata": {},
     "output_type": "execute_result"
    }
   ],
   "source": [
    "list_of_vec_files = glob('../../small_test/*.vec')\n",
    "list_of_vec_files.sort()\n",
    "list_of_vec_files"
   ]
  },
  {
   "cell_type": "code",
   "execution_count": 63,
   "metadata": {},
   "outputs": [],
   "source": [
    "u,v,chc = [],[],[]\n",
    "for fname in list_of_vec_files:\n",
    "    x,y,_u,_v,_chc = read_vec_file(fname)\n",
    "    u.append(_u)\n",
    "    v.append(_v)\n",
    "    chc.append(_chc)\n",
    "\n",
    "u = np.stack(u)\n",
    "v = np.stack(v)\n",
    "chc = np.stack(chc)"
   ]
  },
  {
   "cell_type": "code",
   "execution_count": 64,
   "metadata": {},
   "outputs": [
    {
     "data": {
      "text/plain": [
       "<matplotlib.quiver.Quiver at 0x118f86470>"
      ]
     },
     "execution_count": 64,
     "metadata": {},
     "output_type": "execute_result"
    },
    {
     "data": {
      "image/png": "[encoded data removed]",
      "text/plain": [
       "<Figure size 432x288 with 1 Axes>"
      ]
     },
     "metadata": {},
     "output_type": "display_data"
    }
   ],
   "source": [
    "fig,ax = plt.subplots()\n",
    "ax.quiver(x,y,u[0,:,:],v[0,:,:],chc[0,:,:])"
   ]
  },
  {
   "cell_type": "code",
   "execution_count": 6,
   "metadata": {},
   "outputs": [],
   "source": [
    "method = 'snapshot'\n",
    "n_modes = None"
   ]
  },
  {
   "cell_type": "code",
   "execution_count": 68,
   "metadata": {},
   "outputs": [],
   "source": [
    "def pod_modes(u,v,n_modes=None, method='snapshot'):\n",
    "    \"\"\" estimates POD modes of a 2D vector field using a direct or a snapshot methods \"\"\"\n",
    "    N = len(u)\n",
    "    r,c = u[0].shape\n",
    "\n",
    "    # read data and rearrange in columns\n",
    "    len1 = r*c\n",
    "\n",
    "    U = np.zeros((len1*2,N)) # r*c*3 length of the vector\n",
    "\n",
    "    # stack [u,v] together in columns\n",
    "    for i in range(N):\n",
    "        U[:len1,i] = u[i,:,:].flatten()\n",
    "        U[len1:,i] = v[i,:,:].flatten()\n",
    "\n",
    "    # fluctuations\n",
    "    Umean = np.mean(U,axis=1)\n",
    "    Uf = U - Umean[:,np.newaxis]\n",
    "\n",
    "    if method is 'snapshot': # small size as number of snapshots\n",
    "        R = np.dot(Uf.T,Uf)  # R = Uf.T@Uf equivalent expression\n",
    "    elif method is 'direct': # large size as size of the PIV map\n",
    "        R = np.dot(Uf,Uf.T)  # or R  = Uf@Uf.T\n",
    "\n",
    "    # print(R.shape)\n",
    "\n",
    "    D,V = np.linalg.eigh(R)\n",
    "\n",
    "    # check consistency \n",
    "    assert (np.abs(np.dot(R,V) - np.dot(V,np.diag(D))).max() < 1e-11)\n",
    "\n",
    "    _ = D/N\n",
    "    L = np.sort(_)\n",
    "    I = np.argsort(_)\n",
    "\n",
    "    L = L[::-1]\n",
    "    I = I[::-1]\n",
    "\n",
    "    Erel = np.cumsum(L/np.sum(L))\n",
    "    plt.figure()\n",
    "    plt.plot(Erel[:N]*100)\n",
    "\n",
    "    # modes\n",
    "    if n_modes is None:\n",
    "        n_modes = np.min([N,D.shape[0]]) # all relevant\n",
    "    if method is 'snapshot':\n",
    "        S = np.sqrt(np.abs(D))\n",
    "        S = S[I]\n",
    "        V = V[:,I]\n",
    "        a = np.diag(S[:n_modes])@V[:,:n_modes].T\n",
    "        phi = Uf@V[:,:n_modes]@np.diag(1./S[:n_modes])\n",
    "    elif method is 'direct':\n",
    "        phi = V[:,I]\n",
    "        a = np.dot(Uf.T,phi[:,:n_modes]).T\n",
    "        phi = phi[:,:n_modes].real\n",
    "\n",
    "    umodes,vmodes = np.zeros((r,c,n_modes),dtype=complex),np.zeros((r,c,n_modes),dtype=complex)\n",
    "    for i in range(n_modes):\n",
    "        umodes[:,:,i] = phi[:len1,i].reshape(r,c)\n",
    "        vmodes[:,:,i] = phi[len1:,i].reshape(r,c)\n",
    "    return umodes,vmodes"
   ]
  },
  {
   "cell_type": "code",
   "execution_count": 69,
   "metadata": {},
   "outputs": [
    {
     "data": {
      "image/png": "[encoded data removed]",
      "text/plain": [
       "<Figure size 432x288 with 1 Axes>"
      ]
     },
     "metadata": {},
     "output_type": "display_data"
    },
    {
     "data": {
      "image/png": "[encoded data removed]",
      "text/plain": [
       "<Figure size 288x1152 with 4 Axes>"
      ]
     },
     "metadata": {},
     "output_type": "display_data"
    }
   ],
   "source": [
    "umodes,vmodes = pod_modes(u,v,n_modes=None, method='snapshot')\n",
    "\n",
    "fig,ax = plt.subplots(4,1,figsize=(4,16))\n",
    "for i in range(4):\n",
    "    ax[i].quiver(X,Y,umodes[:,:,i],vmodes[:,:,i])"
   ]
  },
  {
   "cell_type": "code",
   "execution_count": 12,
   "metadata": {},
   "outputs": [],
   "source": [
    "# umd,vmd = pod_modes(u,v,method='direct')\n",
    "# ums,vms = pod_modes(u,v,method='snapshot')"
   ]
  },
  {
   "cell_type": "raw",
   "metadata": {},
   "source": [
    "fig,ax = plt.subplots(1,2,figsize=(10,6))\n",
    "ax[0].quiver(X,Y,umd[:,:,1],vmd[:,:,1])\n",
    "ax[1].quiver(X,Y,ums[:,:,1],vms[:,:,1])"
   ]
  },
  {
   "cell_type": "code",
   "execution_count": 13,
   "metadata": {},
   "outputs": [],
   "source": [
    "tmp = [2.4818, 0.9322, 0.5691, 0.0000]"
   ]
  },
  {
   "cell_type": "code",
   "execution_count": 14,
   "metadata": {},
   "outputs": [
    {
     "data": {
      "text/plain": [
       "[2.4818, 0.9322, 0.5691, 0.0]"
      ]
     },
     "execution_count": 14,
     "metadata": {},
     "output_type": "execute_result"
    }
   ],
   "source": [
    "tmp"
   ]
  },
  {
   "cell_type": "code",
   "execution_count": 15,
   "metadata": {},
   "outputs": [],
   "source": [
    "assert np.abs(tmp - S).max() < .2e-4 # why is it so inaccurate? "
   ]
  },
  {
   "cell_type": "code",
   "execution_count": 16,
   "metadata": {},
   "outputs": [
    {
     "data": {
      "text/plain": [
       "array([[-0.386,  0.775, -0.027, -0.5  ],\n",
       "       [ 0.569, -0.017,  0.652, -0.5  ],\n",
       "       [ 0.413, -0.143, -0.748, -0.5  ],\n",
       "       [-0.597, -0.615,  0.122, -0.5  ]])"
      ]
     },
     "execution_count": 16,
     "metadata": {},
     "output_type": "execute_result"
    }
   ],
   "source": [
    "V"
   ]
  },
  {
   "cell_type": "code",
   "execution_count": 17,
   "metadata": {},
   "outputs": [],
   "source": [
    "_=\"\"\"     0.3856   -0.7750    0.0267   -0.5000\n",
    "   -0.5693    0.0169   -0.6524   -0.5000\n",
    "   -0.4133    0.1427    0.7475   -0.5000\n",
    "    0.5970    0.6154   -0.1218   -0.5000 \"\"\"\n",
    "V_mat = np.genfromtxt(io.BytesIO(_.encode()))"
   ]
  },
  {
   "cell_type": "code",
   "execution_count": 18,
   "metadata": {},
   "outputs": [
    {
     "data": {
      "text/plain": [
       "array([[-7.712e-01,  1.550e+00, -5.337e-02,  3.886e-16],\n",
       "       [ 1.139e+00, -3.381e-02,  1.305e+00, -1.332e-15],\n",
       "       [ 8.266e-01, -2.854e-01, -1.495e+00,  1.277e-15],\n",
       "       [-1.194e+00, -1.231e+00,  2.436e-01, -5.551e-16]])"
      ]
     },
     "execution_count": 18,
     "metadata": {},
     "output_type": "execute_result"
    }
   ],
   "source": [
    "V - (V_mat)"
   ]
  },
  {
   "cell_type": "code",
   "execution_count": 19,
   "metadata": {},
   "outputs": [],
   "source": [
    "_ = \"\"\"0.9569   -1.4128   -1.0258    1.4817\n",
    "   -0.7225    0.0158    0.1330    0.5737\n",
    "    0.0152   -0.3713    0.4254   -0.0693\n",
    "   -0.0000   -0.0000   -0.0000   -0.0000\n",
    " \"\"\"\n",
    "a_mat = np.genfromtxt(io.BytesIO(_.encode()))"
   ]
  },
  {
   "cell_type": "code",
   "execution_count": 20,
   "metadata": {},
   "outputs": [
    {
     "data": {
      "text/plain": [
       "array([[-9.569e-01,  1.413e+00,  1.026e+00, -1.482e+00],\n",
       "       [ 7.225e-01, -1.577e-02, -1.330e-01, -5.737e-01],\n",
       "       [-1.518e-02,  3.713e-01, -4.254e-01,  6.932e-02],\n",
       "       [-8.598e-09, -8.598e-09, -8.598e-09, -8.598e-09]])"
      ]
     },
     "execution_count": 20,
     "metadata": {},
     "output_type": "execute_result"
    }
   ],
   "source": [
    "a"
   ]
  },
  {
   "cell_type": "code",
   "execution_count": 21,
   "metadata": {},
   "outputs": [
    {
     "data": {
      "text/plain": [
       "array([[ 5.005e-01, -1.119e-01, -3.132e-01,  2.663e-08],\n",
       "       [ 2.392e-01,  1.388e-02, -2.123e-01, -6.860e-09],\n",
       "       [ 9.149e-02,  1.936e-01, -1.700e-01,  1.453e-08],\n",
       "       [ 3.879e-02,  2.583e-01, -1.963e-01,  5.649e-09],\n",
       "       [-5.289e-03,  1.086e-01, -1.430e-01,  3.793e-08],\n",
       "       [ 2.139e-01,  1.879e-02, -2.164e-01,  1.937e-08],\n",
       "       [ 9.689e-02,  6.752e-02, -1.622e-01,  1.090e-08],\n",
       "       [ 2.757e-02,  1.681e-01, -1.328e-01, -8.071e-10],\n",
       "       [-2.385e-03,  2.085e-01, -2.032e-01, -8.071e-09],\n",
       "       [-1.739e-02,  1.311e-01, -1.869e-01,  2.744e-08],\n",
       "       [ 4.800e-02,  6.607e-02, -1.791e-01,  0.000e+00],\n",
       "       [ 1.442e-03,  4.846e-02, -1.656e-01,  1.170e-08],\n",
       "       [-2.591e-02,  4.843e-02, -9.225e-02, -5.246e-09],\n",
       "       [-2.999e-02,  7.105e-02, -8.197e-02, -5.649e-09],\n",
       "       [-2.563e-02,  8.775e-02, -1.036e-01,  9.281e-09],\n",
       "       [-3.322e-03,  7.759e-02, -1.505e-01, -1.211e-09],\n",
       "       [-1.191e-02,  9.687e-03, -1.430e-01,  9.281e-09],\n",
       "       [-2.061e-02, -4.135e-02, -5.962e-02,  2.736e-09],\n",
       "       [-1.669e-02, -3.520e-02, -1.935e-02,  2.623e-08],\n",
       "       [-7.898e-03, -7.225e-04, -6.742e-02, -8.575e-09],\n",
       "       [-8.928e-03,  7.716e-02, -1.021e-01,  3.430e-08],\n",
       "       [ 5.323e-03,  2.477e-03, -1.080e-01,  7.062e-09],\n",
       "       [-2.530e-04, -5.436e-02, -1.259e-01,  1.957e-08],\n",
       "       [-7.787e-03, -5.431e-02, -1.039e-01,  5.195e-09],\n",
       "       [-5.992e-03, -3.080e-02, -6.669e-02,  3.531e-09],\n",
       "       [-1.087e-02,  1.006e-01, -5.724e-02, -1.937e-08],\n",
       "       [ 2.688e-05,  5.135e-02, -5.668e-02, -2.098e-08],\n",
       "       [-1.184e-02, -1.224e-02, -1.465e-01, -1.654e-08],\n",
       "       [-2.397e-02, -3.590e-02, -1.618e-01, -1.634e-08],\n",
       "       [-1.004e-02, -1.568e-02, -3.570e-02,  1.485e-08],\n",
       "       [-5.630e-01,  6.893e-02, -3.027e-01,  2.825e-08],\n",
       "       [-2.660e-01, -7.871e-02, -1.944e-01,  2.462e-08],\n",
       "       [-5.150e-02, -1.673e-01, -1.862e-01,  7.364e-09],\n",
       "       [ 4.520e-02, -2.344e-01, -2.182e-01, -3.148e-08],\n",
       "       [ 4.538e-02, -2.414e-01, -1.722e-01,  4.439e-09],\n",
       "       [-3.174e-01,  3.306e-02, -1.595e-01,  1.977e-08],\n",
       "       [-1.792e-01, -7.788e-02, -1.245e-01,  6.734e-09],\n",
       "       [-3.829e-02, -1.647e-01, -1.480e-01,  1.816e-08],\n",
       "       [ 3.185e-02, -1.840e-01, -1.083e-01,  1.433e-08],\n",
       "       [ 1.519e-02, -1.531e-01, -7.311e-02,  2.643e-08],\n",
       "       [-1.610e-01, -9.759e-04, -4.857e-02, -8.625e-09],\n",
       "       [-1.224e-01, -6.372e-02, -2.962e-02,  2.724e-08],\n",
       "       [-6.309e-02, -1.385e-01, -3.902e-02,  2.502e-08],\n",
       "       [-1.289e-02, -1.590e-01,  4.659e-02,  1.897e-08],\n",
       "       [-2.218e-02, -1.488e-01,  1.077e-02,  2.139e-08],\n",
       "       [-9.838e-02,  4.747e-02,  1.135e-02,  2.744e-08],\n",
       "       [-8.253e-02,  1.069e-02,  3.041e-02, -1.110e-09],\n",
       "       [-6.798e-02, -8.097e-02,  7.043e-03, -2.784e-08],\n",
       "       [-3.821e-02, -1.766e-01,  1.997e-02,  2.058e-08],\n",
       "       [-2.652e-02, -2.463e-01, -3.981e-02,  2.260e-08],\n",
       "       [-7.034e-02,  9.254e-02,  4.992e-02,  1.301e-08],\n",
       "       [-5.340e-02,  4.454e-02,  5.340e-02, -1.589e-09],\n",
       "       [-5.020e-02, -8.711e-02,  3.082e-03, -4.096e-08],\n",
       "       [-3.770e-02, -2.168e-01, -9.214e-03, -3.067e-08],\n",
       "       [-2.155e-02, -2.761e-01, -4.251e-02, -4.035e-09],\n",
       "       [-5.418e-02,  1.965e-01,  7.124e-02,  4.035e-10],\n",
       "       [-4.323e-02,  1.141e-01,  9.712e-02, -2.724e-09],\n",
       "       [-4.303e-02, -4.998e-02,  4.320e-02,  9.281e-09],\n",
       "       [-3.906e-02, -1.963e-01,  2.338e-02,  3.228e-08],\n",
       "       [-1.699e-02, -2.649e-01,  2.809e-02, -8.071e-09]])"
      ]
     },
     "execution_count": 21,
     "metadata": {},
     "output_type": "execute_result"
    }
   ],
   "source": [
    "phi"
   ]
  },
  {
   "cell_type": "code",
   "execution_count": 22,
   "metadata": {},
   "outputs": [],
   "source": [
    "_=\"\"\"    -0.5005    0.1119    0.3132    0.0000\n",
    "   -0.2139   -0.0188    0.2164    0.0000\n",
    "   -0.0480   -0.0661    0.1791   -0.0000\n",
    "    0.0033   -0.0776    0.1505   -0.0000\n",
    "    0.0089   -0.0772    0.1021    0.0000\n",
    "    0.0109   -0.1006    0.0572   -0.0000\n",
    "   -0.2392   -0.0139    0.2123   -0.0000\n",
    "   -0.0969   -0.0675    0.1622    0.0000\n",
    "   -0.0014   -0.0485    0.1656    0.0000\n",
    "    0.0119   -0.0097    0.1430    0.0000\n",
    "   -0.0053   -0.0025    0.1080    0.0000\n",
    "   -0.0000   -0.0514    0.0567   -0.0000\n",
    "   -0.0915   -0.1936    0.1700    0.0000\n",
    "   -0.0276   -0.1681    0.1328   -0.0000\n",
    "    0.0259   -0.0484    0.0923   -0.0000\n",
    "    0.0206    0.0413    0.0596   -0.0000\n",
    "    0.0003    0.0544    0.1259    0.0000\n",
    "    0.0118    0.0122    0.1465   -0.0000\n",
    "   -0.0388   -0.2583    0.1963   -0.0000\n",
    "    0.0024   -0.2085    0.2032   -0.0000\n",
    "    0.0300   -0.0710    0.0820   -0.0000\n",
    "    0.0167    0.0352    0.0193    0.0000\n",
    "    0.0078    0.0543    0.1039   -0.0000\n",
    "    0.0240    0.0359    0.1618   -0.0000\n",
    "    0.0053   -0.1086    0.1430    0.0000\n",
    "    0.0174   -0.1311    0.1869    0.0000\n",
    "    0.0256   -0.0877    0.1036    0.0000\n",
    "    0.0079    0.0007    0.0674   -0.0000\n",
    "    0.0060    0.0308    0.0667   -0.0000\n",
    "    0.0100    0.0157    0.0357    0.0000\n",
    "    0.5630   -0.0689    0.3027    0.0000\n",
    "    0.3174   -0.0331    0.1595    0.0000\n",
    "    0.1610    0.0010    0.0486   -0.0000\n",
    "    0.0984   -0.0475   -0.0113    0.0000\n",
    "    0.0703   -0.0925   -0.0499    0.0000\n",
    "    0.0542   -0.1965   -0.0712    0.0000\n",
    "    0.2660    0.0787    0.1944    0.0000\n",
    "    0.1792    0.0779    0.1245   -0.0000\n",
    "    0.1224    0.0637    0.0296    0.0000\n",
    "    0.0825   -0.0107   -0.0304    0.0000\n",
    "    0.0534   -0.0445   -0.0534    0.0000\n",
    "    0.0432   -0.1141   -0.0971    0.0000\n",
    "    0.0515    0.1673    0.1862   -0.0000\n",
    "    0.0383    0.1647    0.1480    0.0000\n",
    "    0.0631    0.1385    0.0390    0.0000\n",
    "    0.0680    0.0810   -0.0070   -0.0000\n",
    "    0.0502    0.0871   -0.0031   -0.0000\n",
    "    0.0430    0.0500   -0.0432    0.0000\n",
    "   -0.0452    0.2344    0.2182   -0.0000\n",
    "   -0.0318    0.1840    0.1083    0.0000\n",
    "    0.0129    0.1590   -0.0466    0.0000\n",
    "    0.0382    0.1766   -0.0200    0.0000\n",
    "    0.0377    0.2168    0.0092   -0.0000\n",
    "    0.0391    0.1963   -0.0234    0.0000\n",
    "   -0.0454    0.2414    0.1722   -0.0000\n",
    "   -0.0152    0.1531    0.0731    0.0000\n",
    "    0.0222    0.1488   -0.0108    0.0000\n",
    "    0.0265    0.2463    0.0398    0.0000\n",
    "    0.0215    0.2761    0.0425   -0.0000\n",
    "    0.0170    0.2649   -0.0281   -0.0000\n",
    "    \"\"\"\n",
    "phi_mat = np.genfromtxt(io.BytesIO(_.encode()))"
   ]
  },
  {
   "cell_type": "code",
   "execution_count": 23,
   "metadata": {},
   "outputs": [
    {
     "data": {
      "text/plain": [
       "[<matplotlib.lines.Line2D at 0x1188aff98>,\n",
       " <matplotlib.lines.Line2D at 0x1189e4518>,\n",
       " <matplotlib.lines.Line2D at 0x1189e4668>,\n",
       " <matplotlib.lines.Line2D at 0x1189e47b8>]"
      ]
     },
     "execution_count": 23,
     "metadata": {},
     "output_type": "execute_result"
    },
    {
     "data": {
      "image/png": "[encoded data removed]",
      "text/plain": [
       "<Figure size 432x288 with 1 Axes>"
      ]
     },
     "metadata": {},
     "output_type": "display_data"
    }
   ],
   "source": [
    "plt.figure()\n",
    "plt.plot(phi)\n",
    "plt.plot(-phi_mat,'--')"
   ]
  },
  {
   "cell_type": "code",
   "execution_count": 24,
   "metadata": {},
   "outputs": [
    {
     "data": {
      "text/plain": [
       "array([[-2.419, -2.441, -2.372, -2.314, -2.376],\n",
       "       [-2.371, -2.39 , -2.384, -2.385, -2.433],\n",
       "       [-2.364, -2.412, -2.507, -2.559, -2.555],\n",
       "       [-2.335, -2.428, -2.572, -2.663, -2.684],\n",
       "       [-2.298, -2.385, -2.524, -2.632, -2.705],\n",
       "       [-2.229, -2.274, -2.399, -2.527, -2.64 ]])"
      ]
     },
     "execution_count": 24,
     "metadata": {},
     "output_type": "execute_result"
    }
   ],
   "source": [
    "u[0,:,:]"
   ]
  },
  {
   "cell_type": "code",
   "execution_count": 25,
   "metadata": {},
   "outputs": [
    {
     "data": {
      "text/plain": [
       "array([-5.550e-01, -2.157e-01,  5.487e-02,  1.525e-01,  8.567e-02, -1.879e-01, -4.148e-02,  9.708e-02,  1.560e-01,  1.142e-01,  4.525e-03,\n",
       "        3.615e-02,  6.119e-02,  8.127e-02,  8.949e-02,  6.152e-02,  2.056e-02, -9.248e-03, -9.167e-03,  8.059e-03,  6.584e-02, -1.664e-03,\n",
       "       -3.712e-02, -3.021e-02, -1.551e-02,  8.397e-02,  3.794e-02,  4.710e-03, -5.415e-04, -1.177e-03,  5.932e-01,  2.006e-01, -6.877e-02,\n",
       "       -2.093e-01, -2.152e-01,  3.300e-01,  1.171e-01, -8.011e-02, -1.617e-01, -1.241e-01,  1.541e-01,  7.155e-02, -3.908e-02, -1.032e-01,\n",
       "       -8.648e-02,  1.283e-01,  8.624e-02,  6.445e-03, -9.132e-02, -1.520e-01,  1.334e-01,  8.247e-02, -1.494e-02, -1.204e-01, -1.782e-01,\n",
       "        1.927e-01,  1.223e-01,  4.413e-03, -1.048e-01, -1.755e-01])"
      ]
     },
     "execution_count": 25,
     "metadata": {},
     "output_type": "execute_result"
    }
   ],
   "source": [
    "Uf[:,0]"
   ]
  },
  {
   "cell_type": "code",
   "execution_count": 31,
   "metadata": {},
   "outputs": [
    {
     "data": {
      "text/plain": [
       "array([[ 5.005e-01,  2.392e-01,  9.149e-02,  3.879e-02, -5.289e-03],\n",
       "       [ 2.139e-01,  9.689e-02,  2.757e-02, -2.385e-03, -1.739e-02],\n",
       "       [ 4.800e-02,  1.442e-03, -2.591e-02, -2.999e-02, -2.563e-02],\n",
       "       [-3.322e-03, -1.191e-02, -2.061e-02, -1.669e-02, -7.898e-03],\n",
       "       [-8.928e-03,  5.323e-03, -2.530e-04, -7.787e-03, -5.992e-03],\n",
       "       [-1.087e-02,  2.688e-05, -1.184e-02, -2.397e-02, -1.004e-02]])"
      ]
     },
     "execution_count": 31,
     "metadata": {},
     "output_type": "execute_result"
    }
   ],
   "source": [
    "umodes[:,:,0].real"
   ]
  },
  {
   "cell_type": "code",
   "execution_count": 27,
   "metadata": {},
   "outputs": [],
   "source": [
    "_=\"\"\"-0.5005   -0.2392   -0.0915   -0.0388    0.0053\n",
    "   -0.2139   -0.0969   -0.0276    0.0024    0.0174\n",
    "   -0.0480   -0.0014    0.0259    0.0300    0.0256\n",
    "    0.0033    0.0119    0.0206    0.0167    0.0079\n",
    "    0.0089   -0.0053    0.0003    0.0078    0.0060\n",
    "    0.0109   -0.0000    0.0118    0.0240    0.0100\"\"\"\n",
    "umodes_mat = np.genfromtxt(io.BytesIO(_.encode()))"
   ]
  },
  {
   "cell_type": "code",
   "execution_count": 28,
   "metadata": {},
   "outputs": [
    {
     "data": {
      "text/plain": [
       "array([[-5.005e-01, -2.392e-01, -9.150e-02, -3.880e-02,  5.300e-03],\n",
       "       [-2.139e-01, -9.690e-02, -2.760e-02,  2.400e-03,  1.740e-02],\n",
       "       [-4.800e-02, -1.400e-03,  2.590e-02,  3.000e-02,  2.560e-02],\n",
       "       [ 3.300e-03,  1.190e-02,  2.060e-02,  1.670e-02,  7.900e-03],\n",
       "       [ 8.900e-03, -5.300e-03,  3.000e-04,  7.800e-03,  6.000e-03],\n",
       "       [ 1.090e-02, -0.000e+00,  1.180e-02,  2.400e-02,  1.000e-02]])"
      ]
     },
     "execution_count": 28,
     "metadata": {},
     "output_type": "execute_result"
    }
   ],
   "source": [
    "umodes_mat"
   ]
  },
  {
   "cell_type": "code",
   "execution_count": 41,
   "metadata": {},
   "outputs": [
    {
     "data": {
      "text/plain": [
       "False"
      ]
     },
     "execution_count": 41,
     "metadata": {},
     "output_type": "execute_result"
    }
   ],
   "source": [
    "np.allclose(np.abs((umodes[:,:,0].real*umodes_mat).sum(0)),1.)"
   ]
  },
  {
   "cell_type": "code",
   "execution_count": 44,
   "metadata": {},
   "outputs": [
    {
     "data": {
      "text/plain": [
       "array([0.299, 0.067, 0.01 , 0.003, 0.001])"
      ]
     },
     "execution_count": 44,
     "metadata": {},
     "output_type": "execute_result"
    }
   ],
   "source": [
    "np.abs((umodes[:,:,0].real*umodes_mat).sum(0))"
   ]
  },
  {
   "cell_type": "code",
   "execution_count": 46,
   "metadata": {},
   "outputs": [
    {
     "data": {
      "text/plain": [
       "(array([[ 5.005e-01,  2.392e-01,  9.149e-02,  3.879e-02, -5.289e-03],\n",
       "        [ 2.139e-01,  9.689e-02,  2.757e-02, -2.385e-03, -1.739e-02],\n",
       "        [ 4.800e-02,  1.442e-03, -2.591e-02, -2.999e-02, -2.563e-02],\n",
       "        [-3.322e-03, -1.191e-02, -2.061e-02, -1.669e-02, -7.898e-03],\n",
       "        [-8.928e-03,  5.323e-03, -2.530e-04, -7.787e-03, -5.992e-03],\n",
       "        [-1.087e-02,  2.688e-05, -1.184e-02, -2.397e-02, -1.004e-02]]),\n",
       " array([[-5.005e-01, -2.392e-01, -9.150e-02, -3.880e-02,  5.300e-03],\n",
       "        [-2.139e-01, -9.690e-02, -2.760e-02,  2.400e-03,  1.740e-02],\n",
       "        [-4.800e-02, -1.400e-03,  2.590e-02,  3.000e-02,  2.560e-02],\n",
       "        [ 3.300e-03,  1.190e-02,  2.060e-02,  1.670e-02,  7.900e-03],\n",
       "        [ 8.900e-03, -5.300e-03,  3.000e-04,  7.800e-03,  6.000e-03],\n",
       "        [ 1.090e-02, -0.000e+00,  1.180e-02,  2.400e-02,  1.000e-02]]))"
      ]
     },
     "execution_count": 46,
     "metadata": {},
     "output_type": "execute_result"
    }
   ],
   "source": [
    "umodes[:,:,0].real,umodes_mat"
   ]
  },
  {
   "cell_type": "code",
   "execution_count": 56,
   "metadata": {},
   "outputs": [
    {
     "data": {
      "text/plain": [
       "0.8737565970468506"
      ]
     },
     "execution_count": 56,
     "metadata": {},
     "output_type": "execute_result"
    }
   ],
   "source": [
    "np.abs(np.dot(umodes[:,:,0].real.T,umodes_mat).sum(0)).sum()"
   ]
  },
  {
   "cell_type": "code",
   "execution_count": 62,
   "metadata": {},
   "outputs": [
    {
     "data": {
      "text/plain": [
       "0.00010312106127388724"
      ]
     },
     "execution_count": 62,
     "metadata": {},
     "output_type": "execute_result"
    }
   ],
   "source": [
    "(umodes[:,:,0].real + umodes_mat).sum()"
   ]
  },
  {
   "cell_type": "code",
   "execution_count": null,
   "metadata": {},
   "outputs": [],
   "source": []
  }
 ],
 "metadata": {
  "kernelspec": {
   "display_name": "Python 3",
   "language": "python",
   "name": "python3"
  },
  "language_info": {
   "codemirror_mode": {
    "name": "ipython",
    "version": 3
   },
   "file_extension": ".py",
   "mimetype": "text/x-python",
   "name": "python",
   "nbconvert_exporter": "python",
   "pygments_lexer": "ipython3",
   "version": "3.6.4"
  }
 },
 "nbformat": 4,
 "nbformat_minor": 2
}
