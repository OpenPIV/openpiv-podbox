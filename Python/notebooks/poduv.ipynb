{
 "cells": [
  {
   "cell_type": "code",
   "execution_count": 1,
   "metadata": {},
   "outputs": [],
   "source": [
    "# copy of poduv.m\n",
    "import numpy as np\n",
    "import matplotlib.pyplot as plt\n",
    "%matplotlib inline\n",
    "\n",
    "from glob import glob\n",
    "import os\n",
    "import io\n",
    "\n",
    "np.set_printoptions(linewidth=150)\n",
    "np.set_printoptions(precision=3)"
   ]
  },
  {
   "cell_type": "code",
   "execution_count": 2,
   "metadata": {},
   "outputs": [],
   "source": [
    "import os, sys\n",
    "sys.path.append('../scripts/')\n",
    "from podbox import read_vec_file, pod_modes"
   ]
  },
  {
   "cell_type": "code",
   "execution_count": 3,
   "metadata": {},
   "outputs": [
    {
     "data": {
      "text/plain": [
       "['../../test/06302014_2Hz_particles000200.T000.D000.P000.H000.L.vec',\n",
       " '../../test/06302014_2Hz_particles000201.T000.D000.P000.H000.L.vec',\n",
       " '../../test/06302014_2Hz_particles000202.T000.D000.P000.H000.L.vec',\n",
       " '../../test/06302014_2Hz_particles000203.T000.D000.P000.H000.L.vec',\n",
       " '../../test/06302014_2Hz_particles000204.T000.D000.P000.H000.L.vec',\n",
       " '../../test/06302014_2Hz_particles000205.T000.D000.P000.H000.L.vec',\n",
       " '../../test/06302014_2Hz_particles000206.T000.D000.P000.H000.L.vec',\n",
       " '../../test/06302014_2Hz_particles000207.T000.D000.P000.H000.L.vec',\n",
       " '../../test/06302014_2Hz_particles000208.T000.D000.P000.H000.L.vec',\n",
       " '../../test/06302014_2Hz_particles000209.T000.D000.P000.H000.L.vec',\n",
       " '../../test/06302014_2Hz_particles000210.T000.D000.P000.H000.L.vec']"
      ]
     },
     "execution_count": 3,
     "metadata": {},
     "output_type": "execute_result"
    }
   ],
   "source": [
    "list_of_vec_files = glob('../../test/*.vec')\n",
    "list_of_vec_files.sort()\n",
    "list_of_vec_files"
   ]
  },
  {
   "cell_type": "code",
   "execution_count": 4,
   "metadata": {},
   "outputs": [
    {
     "ename": "NameError",
     "evalue": "name 'np' is not defined",
     "output_type": "error",
     "traceback": [
      "\u001b[0;31m---------------------------------------------------------------------------\u001b[0m",
      "\u001b[0;31mNameError\u001b[0m                                 Traceback (most recent call last)",
      "\u001b[0;32m<ipython-input-4-06f0ab01532f>\u001b[0m in \u001b[0;36m<module>\u001b[0;34m()\u001b[0m\n\u001b[1;32m      1\u001b[0m \u001b[0mu\u001b[0m\u001b[0;34m,\u001b[0m\u001b[0mv\u001b[0m\u001b[0;34m,\u001b[0m\u001b[0mchc\u001b[0m \u001b[0;34m=\u001b[0m \u001b[0;34m[\u001b[0m\u001b[0;34m]\u001b[0m\u001b[0;34m,\u001b[0m\u001b[0;34m[\u001b[0m\u001b[0;34m]\u001b[0m\u001b[0;34m,\u001b[0m\u001b[0;34m[\u001b[0m\u001b[0;34m]\u001b[0m\u001b[0;34m\u001b[0m\u001b[0m\n\u001b[1;32m      2\u001b[0m \u001b[0;32mfor\u001b[0m \u001b[0mfname\u001b[0m \u001b[0;32min\u001b[0m \u001b[0mlist_of_vec_files\u001b[0m\u001b[0;34m:\u001b[0m\u001b[0;34m\u001b[0m\u001b[0m\n\u001b[0;32m----> 3\u001b[0;31m     \u001b[0mx\u001b[0m\u001b[0;34m,\u001b[0m\u001b[0my\u001b[0m\u001b[0;34m,\u001b[0m\u001b[0m_u\u001b[0m\u001b[0;34m,\u001b[0m\u001b[0m_v\u001b[0m\u001b[0;34m,\u001b[0m\u001b[0m_chc\u001b[0m \u001b[0;34m=\u001b[0m \u001b[0mread_vec_file\u001b[0m\u001b[0;34m(\u001b[0m\u001b[0mfname\u001b[0m\u001b[0;34m)\u001b[0m\u001b[0;34m\u001b[0m\u001b[0m\n\u001b[0m\u001b[1;32m      4\u001b[0m     \u001b[0mu\u001b[0m\u001b[0;34m.\u001b[0m\u001b[0mappend\u001b[0m\u001b[0;34m(\u001b[0m\u001b[0m_u\u001b[0m\u001b[0;34m)\u001b[0m\u001b[0;34m\u001b[0m\u001b[0m\n\u001b[1;32m      5\u001b[0m     \u001b[0mv\u001b[0m\u001b[0;34m.\u001b[0m\u001b[0mappend\u001b[0m\u001b[0;34m(\u001b[0m\u001b[0m_v\u001b[0m\u001b[0;34m)\u001b[0m\u001b[0;34m\u001b[0m\u001b[0m\n",
      "\u001b[0;32m~/Documents/repos/openpiv-podbox/Python/scripts/podbox.py\u001b[0m in \u001b[0;36mread_vec_file\u001b[0;34m(fname)\u001b[0m\n\u001b[1;32m      8\u001b[0m         \u001b[0mfname\u001b[0m \u001b[0;34m:\u001b[0m \u001b[0mfile\u001b[0m \u001b[0mname\u001b[0m\u001b[0;34m,\u001b[0m \u001b[0mtypically\u001b[0m \u001b[0mends\u001b[0m \u001b[0;32mwith\u001b[0m \u001b[0;34m.\u001b[0m\u001b[0mvec\u001b[0m\u001b[0;34m\u001b[0m\u001b[0m\n\u001b[1;32m      9\u001b[0m     \"\"\"\n\u001b[0;32m---> 10\u001b[0;31m     \u001b[0mdata\u001b[0m \u001b[0;34m=\u001b[0m \u001b[0mnp\u001b[0m\u001b[0;34m.\u001b[0m\u001b[0mgenfromtxt\u001b[0m\u001b[0;34m(\u001b[0m\u001b[0mfname\u001b[0m\u001b[0;34m,\u001b[0m \u001b[0mskip_header\u001b[0m\u001b[0;34m=\u001b[0m\u001b[0;36m1\u001b[0m\u001b[0;34m,\u001b[0m \u001b[0mdelimiter\u001b[0m\u001b[0;34m=\u001b[0m\u001b[0;34m','\u001b[0m\u001b[0;34m,\u001b[0m\u001b[0musecols\u001b[0m\u001b[0;34m=\u001b[0m\u001b[0;34m(\u001b[0m\u001b[0;36m0\u001b[0m\u001b[0;34m,\u001b[0m\u001b[0;36m1\u001b[0m\u001b[0;34m,\u001b[0m\u001b[0;36m2\u001b[0m\u001b[0;34m,\u001b[0m\u001b[0;36m3\u001b[0m\u001b[0;34m,\u001b[0m\u001b[0;36m4\u001b[0m\u001b[0;34m)\u001b[0m\u001b[0;34m)\u001b[0m\u001b[0;34m\u001b[0m\u001b[0m\n\u001b[0m\u001b[1;32m     11\u001b[0m     \u001b[0mr\u001b[0m\u001b[0;34m,\u001b[0m\u001b[0mc\u001b[0m \u001b[0;34m=\u001b[0m \u001b[0mnp\u001b[0m\u001b[0;34m.\u001b[0m\u001b[0munique\u001b[0m\u001b[0;34m(\u001b[0m\u001b[0mdata\u001b[0m\u001b[0;34m[\u001b[0m\u001b[0;34m:\u001b[0m\u001b[0;34m,\u001b[0m\u001b[0;36m1\u001b[0m\u001b[0;34m]\u001b[0m\u001b[0;34m)\u001b[0m\u001b[0;34m.\u001b[0m\u001b[0mshape\u001b[0m\u001b[0;34m[\u001b[0m\u001b[0;36m0\u001b[0m\u001b[0;34m]\u001b[0m\u001b[0;34m,\u001b[0m\u001b[0mnp\u001b[0m\u001b[0;34m.\u001b[0m\u001b[0munique\u001b[0m\u001b[0;34m(\u001b[0m\u001b[0mdata\u001b[0m\u001b[0;34m[\u001b[0m\u001b[0;34m:\u001b[0m\u001b[0;34m,\u001b[0m\u001b[0;36m0\u001b[0m\u001b[0;34m]\u001b[0m\u001b[0;34m)\u001b[0m\u001b[0;34m.\u001b[0m\u001b[0mshape\u001b[0m\u001b[0;34m[\u001b[0m\u001b[0;36m0\u001b[0m\u001b[0;34m]\u001b[0m \u001b[0;31m# order ?\u001b[0m\u001b[0;34m\u001b[0m\u001b[0m\n\u001b[1;32m     12\u001b[0m \u001b[0;34m\u001b[0m\u001b[0m\n",
      "\u001b[0;31mNameError\u001b[0m: name 'np' is not defined"
     ]
    }
   ],
   "source": [
    "u,v,chc = [],[],[]\n",
    "for fname in list_of_vec_files:\n",
    "    x,y,_u,_v,_chc = read_vec_file(fname)\n",
    "    u.append(_u)\n",
    "    v.append(_v)\n",
    "    chc.append(_chc)\n",
    "\n",
    "u = np.stack(u)\n",
    "v = np.stack(v)\n",
    "chc = np.stack(chc)"
   ]
  },
  {
   "cell_type": "code",
   "execution_count": null,
   "metadata": {},
   "outputs": [],
   "source": [
    "fig,ax = plt.subplots()\n",
    "ax.quiver(x,y,u[0,:,:],v[0,:,:],chc[0,:,:])"
   ]
  },
  {
   "cell_type": "code",
   "execution_count": null,
   "metadata": {},
   "outputs": [],
   "source": []
  },
  {
   "cell_type": "code",
   "execution_count": null,
   "metadata": {},
   "outputs": [],
   "source": [
    "N = len(u)\n",
    "for method in ['snapshot','direct']:\n",
    "    umodes,vmodes,Erel = pod_modes(u,v,n_modes=None, method=method)\n",
    "\n",
    "    plt.figure()\n",
    "    plt.plot(Erel[:N]*100)\n",
    "    plt.ylabel('% energy')\n",
    "    plt.xlabel('# mode')\n",
    "\n",
    "    fig,ax = plt.subplots(N,1,figsize=(4,16))\n",
    "    for i in range(N):\n",
    "        ax[i].quiver(x,y,umodes[:,:,i],vmodes[:,:,i])\n",
    "        ax[i].set_xlabel('pix')\n",
    "        ax[i].set_ylabel('pix')"
   ]
  },
  {
   "cell_type": "code",
   "execution_count": null,
   "metadata": {},
   "outputs": [],
   "source": [
    "# multi-mode reconstruction\n",
    "umodes,vmodes,Erel,ur,vr = pod_modes(u,v,n_modes=None, method='snapshot',\\\n",
    "                                      reconstruction='flow',modes_list=[0,1])\n",
    "fig,ax = plt.subplots(N,1,figsize=(4,12))\n",
    "for i in range(N):\n",
    "    ax[i].quiver(x,y,u[i,:,:],v[i,:,:],color='b')\n",
    "    ax[i].quiver(x,y,ur[i,:,:],vr[i,:,:],color='r')"
   ]
  },
  {
   "cell_type": "code",
   "execution_count": null,
   "metadata": {},
   "outputs": [],
   "source": [
    "# multi-mode reconstruction\n",
    "umodes,vmodes,Erel,ur,vr = pod_modes(u,v,n_modes=None, method='snapshot',\\\n",
    "                                      reconstruction='weight',modes_list=[0,1,2])\n",
    "fig,ax = plt.subplots(figsize=(4,4))\n",
    "ax.quiver(x,y,ur,vr,color='r')"
   ]
  },
  {
   "cell_type": "code",
   "execution_count": null,
   "metadata": {},
   "outputs": [],
   "source": [
    "# multi-mode reconstruction\n",
    "umodes,vmodes,Erel,ur,vr = pod_modes(u,v,n_modes=None, method='snapshot',\\\n",
    "                                      reconstruction='no_weight',modes_list=[0,1,2])\n",
    "fig,ax = plt.subplots(figsize=(4,4))\n",
    "ax.quiver(x,y,ur,vr,color='r')"
   ]
  }
 ],
 "metadata": {
  "kernelspec": {
   "display_name": "Python 3",
   "language": "python",
   "name": "python3"
  },
  "language_info": {
   "codemirror_mode": {
    "name": "ipython",
    "version": 3
   },
   "file_extension": ".py",
   "mimetype": "text/x-python",
   "name": "python",
   "nbconvert_exporter": "python",
   "pygments_lexer": "ipython3",
   "version": "3.6.4"
  }
 },
 "nbformat": 4,
 "nbformat_minor": 2
}
